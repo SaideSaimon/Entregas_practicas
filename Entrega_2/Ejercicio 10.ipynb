{
 "cells": [
  {
   "cell_type": "markdown",
   "id": "3ef90715",
   "metadata": {},
   "source": [
    "# Simón Palacios"
   ]
  },
  {
   "cell_type": "markdown",
   "id": "62970db4",
   "metadata": {},
   "source": [
    "## Ejercicio 10 \n",
    ">Generar una estructura con los nombres y la suma de ambas notas en base a los archivos  <font color = 'blue'>* nombre1_txt * </font>, <font color = 'blue'>* eval *</font> y <font color = 'blue'>* eval2 *</font>. Luego calcular la nota promedio entre todos los alumnos e informar aquellos alumnos que tienen un promedio de notas menor al promedio general.  \n",
    "****************\n",
    "### Resolucion\n",
    ">$P_{1}$ Informar alumnos con promedios menores a la media\n",
    ">   * Notas y nombres\n",
    ">   * promedio individual\n",
    ">   * promedio general\n",
    ">\n",
    ">$P_{2}$ Obtener listas [nombres, notas_totales]\n",
    ">\n",
    ">$P_{3}$ Sumar notas\n",
    ">   * notas 1 + notas 2 + notas N\n",
    ">\n",
    ">$P_{4}$ Limpiar caracteres extra\n",
    ">   * nombres -> ascii.letters, notas -> string.digits\n",
    ">   \n",
    ">$P_{5}$ Reconocer datos\n",
    ">   * nombres, notas\n",
    ">   \n",
    ">$P_{6}$ Abrir archivo \n",
    ">   * nombre_archivo, ruta_actual\n",
    "**************"
   ]
  },
  {
   "cell_type": "markdown",
   "id": "5301dd81",
   "metadata": {},
   "source": [
    "* $P_{6}$ Abrir archivo \n",
    "> Para abrir el archivo se toma el directorio actual y se le concatena el nombre que se recibe por parámetro. Este modulo retorna el contenido del archivo, como elementos separados por salto de linea, en una lista."
   ]
  },
  {
   "cell_type": "code",
   "execution_count": 1,
   "id": "ea1ea42d",
   "metadata": {},
   "outputs": [],
   "source": [
    "import os\n",
    "\n",
    "\n",
    "def abrir_archivo(nombre):\n",
    "    \"\"\" Abre el archivo previamente cargado en 'archivo_nombre'\n",
    "    y retorna su contenido como una lista donde sus elementos están\n",
    "    divididos por un salto de línea\"\"\"\n",
    "    base_path = os.path.abspath(os.path.dirname('EJ10.py'))\n",
    "    archivo = os.path.join(base_path, nombre + '.txt')\n",
    "    with open(archivo, 'r', encoding=\"utf-8\") as fp:\n",
    "        contenido = fp.readlines()\n",
    "    return contenido"
   ]
  },
  {
   "cell_type": "markdown",
   "id": "1e2b63e5",
   "metadata": {},
   "source": [
    "* $P_{5}$ Reconocer datos\n",
    ">Este módulo recorrer el contenido del archivo quitando los valores de la lista excluidos en cada palabra, luego consulta el primer valor del contenido y dependiendo si son numeros o nombres agrega al final de la lista que contiene además de filtrar que no halla caracteres que no pertenecen al tipo de dato que contiene."
   ]
  },
  {
   "cell_type": "code",
   "execution_count": 2,
   "id": "5db6d0b2",
   "metadata": {},
   "outputs": [],
   "source": [
    "def reconocer_datos(nombre):\n",
    "    \"\"\" Recibe por parámetro el nombre del archivo a abrir para luego\n",
    "    devolver su contenido como una lista que tiene en su índice -1 el tipo\n",
    "    de dato que contiene.\"\"\"\n",
    "    excluidos = ['\\n', ',', \"'\"]\n",
    "    contenido = abrir_archivo(nombre)\n",
    "    for i in range(len(contenido)):\n",
    "        palabra = [char for char in contenido[i] if char not in excluidos]\n",
    "        contenido[i] = ''.join(char for char in palabra)\n",
    "    if contenido[0].isalpha():\n",
    "        contenido = limpiar_nombres(contenido)\n",
    "        contenido.append(\"nombres\")\n",
    "    else:\n",
    "        contenido = limpiar_nums(contenido)\n",
    "        contenido.append(\"números\")\n",
    "    return contenido"
   ]
  },
  {
   "cell_type": "markdown",
   "id": "597ec37f",
   "metadata": {},
   "source": [
    "* $P_{4}$ Limpiar caracteres extra\n",
    "> Para limpiar los caracteres arme dos funciones según el problema. *limpiar_nombres* filtra los caracteres uno a uno por el conjunto de valores permitidos, luego rearma la palabra\n",
    "y finalmente filtra los elementos de la lista vacíos. El módulo *limpiar_nums* hace lo mismo pero antes de devolverlo a su posición en la lista lo convierte en float."
   ]
  },
  {
   "cell_type": "code",
   "execution_count": 3,
   "id": "7e7b6ba2",
   "metadata": {},
   "outputs": [],
   "source": [
    "def limpiar_nums(lista):\n",
    "    \"\"\" Recibe una lista de números en formato string y devuelve\n",
    "    una lista de números.\"\"\"\n",
    "    for i in range(len(lista)):\n",
    "        clear_word = \"\".join(filter(lambda x: x in string.digits,\n",
    "                                    lista[i]))\n",
    "        lista[i] = float(clear_word)\n",
    "    return lista\n",
    "\n",
    "\n",
    "def limpiar_nombres(lista):\n",
    "    \"\"\" Recibe una lista de nombres y devuelve la lista solo con los valores\n",
    "    permitidos.\"\"\"\n",
    "    valores = string.ascii_letters.join([\"á\", \"é\", \"í\", \"ó\", \"ú\"])\n",
    "    for i in range(len(lista)):\n",
    "        clear_word = \"\".join(filter(lambda x: x in valores,\n",
    "                                    lista[i].lower())).capitalize()\n",
    "        lista[i] = clear_word\n",
    "    return list(filter(lambda x: x != '', lista))"
   ]
  },
  {
   "cell_type": "markdown",
   "id": "dbe98cf6",
   "metadata": {},
   "source": [
    "* $P_{3}$ Obtener estructura con los datos  \n",
    "> *obtener_listados* define la condición por la cual se van a cargar los archivos si es por teclado o con los argumentos que recibe. Cualquiera de los dos casos llama *obtener_lista* que modifica el diccionario que recibe por parámetro agregando la lista según el tipo de datos que contiene. Al finalizar la carga *obtener_listados* retorna un diccionario."
   ]
  },
  {
   "cell_type": "code",
   "execution_count": 4,
   "id": "b1d87311",
   "metadata": {},
   "outputs": [],
   "source": [
    "def obtener_listas(nombre_archivo, textos):\n",
    "    lista = reconocer_datos(nombre_archivo)\n",
    "    tipo = lista.pop()\n",
    "    textos[tipo].append(lista)\n",
    "    if tipo == 'nombres':\n",
    "        print(lista)\n",
    "        print(\"tipo de archivo = strings\")\n",
    "    else:\n",
    "        print(lista)\n",
    "        print(\"tipo de archivo = dígitos\")\n",
    "\n",
    "\n"
   ]
  },
  {
   "cell_type": "code",
   "execution_count": 5,
   "id": "2f0243ab",
   "metadata": {},
   "outputs": [],
   "source": [
    "def obtener_listados(*args):\n",
    "    \"\"\" Lee por teclado nombres de archivos a cargar hasta que se ingresa\n",
    "    'fin'. Retorna un diccionario con los tipos de texto (nombres, números)\n",
    "    como keys y una lista de listas como value\"\"\"\n",
    "    listados = {'nombres': [], 'números': []}\n",
    "    if len(args) == 0:\n",
    "        print(\"Comienzo carga de archivos (ingrese fin para terminar)\")\n",
    "        nombre_archivo = input('Nombre del archivo: ')\n",
    "        while nombre_archivo != 'fin':\n",
    "            obtener_listas(nombre_archivo, listados)\n",
    "            nombre_archivo = input('Nombre del archivo: ')\n",
    "    else:\n",
    "        for i in range(3):\n",
    "            obtener_listas(args[i], listados)\n",
    "    print(\"-\"*30)\n",
    "    return listados"
   ]
  },
  {
   "cell_type": "markdown",
   "id": "ad5d8f68",
   "metadata": {},
   "source": [
    "* $P_{2}$ Sumar notas\n",
    "> Para sumar las notas se recibe como parametro una lista con las notas de cada estudiante por separado. notas = [notas1, notas2, notasN]. Se recorre la lista de notas acumulando los valores del mismo indice en la posicion 0 de la lista. Luego se le agrega la cantidad de notas que se sumaron al final de la lista."
   ]
  },
  {
   "cell_type": "code",
   "execution_count": 6,
   "id": "61662b9b",
   "metadata": {},
   "outputs": [],
   "source": [
    "def sumar_notas(notas):\n",
    "    \"\"\" Suma las notas con el mismo índice de distintas listas y los guarda en\n",
    "    la lista de posición '0'\"\"\"\n",
    "    total = []\n",
    "    for j in range(len(notas) - 1):\n",
    "        total = [notas[0][i] + notas[j + 1][i]\n",
    "                 for i in range(len(notas[0]))]\n",
    "    total.append(len(notas))\n",
    "    return total"
   ]
  },
  {
   "cell_type": "markdown",
   "id": "2bac6cf7",
   "metadata": {},
   "source": [
    "* Calcular promedios"
   ]
  },
  {
   "cell_type": "code",
   "execution_count": 7,
   "id": "7e727c0b",
   "metadata": {},
   "outputs": [],
   "source": [
    "def promedio_indi(notas, div):\n",
    "    return [nota / div for nota in notas]\n",
    "\n",
    "\n",
    "def promedio_general(notas):\n",
    "    return sum(notas) / len(notas) - 1"
   ]
  },
  {
   "cell_type": "markdown",
   "id": "87a5b6d1",
   "metadata": {},
   "source": [
    "* $P_1$ Informar alumnos con promedios menores a la media  \n",
    "> Para informar los alumnos con el promedio menor al promedio general armé un módulo que recibe como parametro las notas y nombres de los alumnos. Por cada nota calcula el promedio (*promedio_indi*) y lo almacena en una lista. El promedio general se obtiene de la suma de todas las notas dividido la cantidad de notas. Recorro la lista de promedios y  por cada promedio menor al promedio general imprimo en pantalla el nombre y promedio.  "
   ]
  },
  {
   "cell_type": "code",
   "execution_count": 8,
   "id": "998caf8c",
   "metadata": {},
   "outputs": [],
   "source": [
    "def informar_promedios(notas, nombres):\n",
    "    \"\"\" Recibe como parámetro las notas a promediar y los nombres, ambos\n",
    "    relativos en cuanto a posición \"\"\"\n",
    "    cant_notas = notas.pop()\n",
    "    prom_g = promedio_general(notas)\n",
    "    promedios = promedio_indi(notas, cant_notas)\n",
    "    print(f\"Nombre{' ' * 9}| Prom.\")\n",
    "    print(\"-\" * 30)\n",
    "    for i in range(len(notas)):\n",
    "        if promedios[i] < prom_g:\n",
    "            promedio = float(promedios[i]).__format__(\".4\")\n",
    "            esp = 15 - len(nombres[i])\n",
    "            print(f\"{nombres[i]}{' ' * esp}| {promedio} \")\n",
    "\n"
   ]
  },
  {
   "cell_type": "markdown",
   "id": "30387824",
   "metadata": {},
   "source": [
    "* Yapa: menu interactivo"
   ]
  },
  {
   "cell_type": "code",
   "execution_count": null,
   "id": "ad71223d",
   "metadata": {},
   "outputs": [],
   "source": [
    "import string\n",
    "\n",
    "def elegir_op():\n",
    "    \"\"\" Si se selecciona 'promedios' sin antes 'cargar' se usan los valores\n",
    "    'nombres_1', 'eval' y 'eval2'.\"\"\"\n",
    "    print(\"\"\"\n",
    "    -~- Menu principal -~-\\n\n",
    "    1.  Cargar \n",
    "    2.  Promedios\n",
    "    3.  Salir\n",
    "    \"\"\")\n",
    "    char = input('Opción (1-3): ')\n",
    "    if char in string.digits:\n",
    "        valor = int(char)\n",
    "    else:\n",
    "        valor = -1\n",
    "    return valor\n",
    "\n",
    "\n",
    "def main():\n",
    "    fin = False\n",
    "    pos = 0\n",
    "    while not fin:\n",
    "        choice = elegir_op()\n",
    "        match choice:\n",
    "            case 1:\n",
    "                ls = obtener_listados()\n",
    "                ls[\"números\"] = sumar_notas(ls[\"números\"])\n",
    "                pos = 1\n",
    "            case 2:\n",
    "                if pos == 0:\n",
    "                    ls = obtener_listados(\"nombres_1\", \"eval\", \"eval2\")\n",
    "                    ls[\"números\"] = sumar_notas(ls[\"números\"])\n",
    "                informar_promedios(ls[\"números\"], ls[\"nombres\"][0])\n",
    "            case 3:\n",
    "                fin = True\n",
    "            case _:\n",
    "                print(\"Opción no válida\")\n",
    "\n",
    "main()"
   ]
  },
  {
   "cell_type": "markdown",
   "id": "ab20713b",
   "metadata": {},
   "source": [
    "**********************\n",
    "### Consulta\n",
    "\n",
    "> Armé un diagrama de flujo de lo que sería la ejecución del programa. No estoy seguro que sea así la estructura, pero me gustaría saber si está bien pensado el esquema. Usé las flechas azules para indicar la llamada del módulo y las rojas para aquellos que retornan algo luego de la ejecución.  \n",
    "Al iniciar el programa se ejecuta el método main(), el main llama a elegir opción que despliega una interfaz interactiva donde el resultado elegido opera sobre un case que determina el caso a ejecutar. Los casos se dividen por la facilitación de poder imprimir los promedios sin cargar por teclado los nombres de cada archivo, para el caso 2 se le pasa a la función *obtener_listados* los argumentos 'nombres_1', 'eval', 'eval2'. Siempre y cuando no se hallan cargado antes los archivos con nombres por teclado. En esta función implemento dos formas de llamar al módulo *obtener_lista* una con un while y otra con un for.$^1$ Si se decidió por cargar por teclado admite nombres de archivos hasta que se introduce fin, sino, se itera por la cantidad de argumentos llamando a la funcion *obtener_lista* con cada uno de los argumentos. Dentro de *obtener_lista* se llama a *reconocer_datos* en este módulo se invocan dos funciones distintas, primero *abrir_archivo* y luego a limpiar segun el tipo de datos que contiene.$^2$ Luego de limpiar todas las listas que contienen los datos de los archivos se ejecuta la funcion *sumar_notas*$^3$ y retorna al menú para elegir opciones si se eligió la opción 1. La función *informar_promedios* si bien no retorna nada, luego de calcular los promedios, imprime en pantalla los valores según la condición. Esto tendría que aparecer en el diagrama?\n",
    ">\n",
    ">\n",
    ">$^1$En este punto dentro del esquema la iteración se representa con un bucle que pasa por un cuadro 'Fin?' .  \n",
    ">$^2$Dado que limpiar implica dos funciones distintas *limpiar_nums* y *limpiar_nombres* eso se especifica tambien? O los diagramas no se llevan a tal nivel de detalle?  \n",
    ">$^3$ Como se establece las prioridades en la ejecución? porque si bien están al mismo \"nivel\" primero se llama a *obtener_listados* y luego a *sumar_notas*"
   ]
  },
  {
   "attachments": {
    "Flowchart%20%281%29.png": {
     "image/png": "[encoded data removed]"
    }
   },
   "cell_type": "markdown",
   "id": "675f6880",
   "metadata": {},
   "source": [
    "![Flowchart%20%281%29.png](attachment:Flowchart%20%281%29.png)"
   ]
  }
 ],
 "metadata": {
  "kernelspec": {
   "display_name": "Python 3 (ipykernel)",
   "language": "python",
   "name": "python3"
  },
  "language_info": {
   "codemirror_mode": {
    "name": "ipython",
    "version": 3
   },
   "file_extension": ".py",
   "mimetype": "text/x-python",
   "name": "python",
   "nbconvert_exporter": "python",
   "pygments_lexer": "ipython3",
   "version": "3.10.0"
  }
 },
 "nbformat": 4,
 "nbformat_minor": 5
}
